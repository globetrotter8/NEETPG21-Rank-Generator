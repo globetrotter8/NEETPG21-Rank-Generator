"""
This code scans the table from the pdf and makes it into a dataframe using camelot and pandas, page by page
file = "123.pdf"
mark_list=[]
c=0
for i in range(1,508):
#page by page from 1-508 else RAM used too much and program crashes
  tables = camelot.read_pdf(file,pages='{age}'.format(age=i))
  nt=tables.n
  for x in range(0, nt):
        dfr=tables[x].df
        dfr.rename(columns={0:'index'}, inplace=True)
        dfr.rename(columns={1:'Marks'}, inplace=True)
        dfr.drop(['index'], axis = 1)
        for ind in dfr.index:
            # Create list for the current row
            mark =str(dfr['Marks'][ind])
            mark=str(mark[-3:])
            if mark=="ENT":
              mark_list.append('0')
              c+=1
            elif mark.startswith("\n"):
              mark_list.append('0'+mark[-2:])
            elif mark=='':
              a=2
            else:
              mark_list.append(mark)
"""

#calculates rough Rank according to the Marks in NEET-PG21 MarkList.pdf
!pip install "camelot-py[cv]"
!apt install python3-tk ghostscript
!which gs
import camelot
import pandas as pd
df = pd.read_csv(123.csv)
mark_list=[]
mark_list=df.values.tolist()
mark_list.sort(reverse=True)
length=len(mark_list)
present=len-c
print ("Number of Students : ", len(mark_list))
print("Absent: ",c)
print("Best Rank:",mark_list.index('{mark}').format(mark=val))
print("Worst Rank: ",mark_list.count('{mark}').format(mark=val)+mark_list.index('{mark}').format(mark=val))
print("All the Best")
